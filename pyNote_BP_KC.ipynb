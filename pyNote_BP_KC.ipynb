{
 "cells": [
  {
   "cell_type": "code",
   "execution_count": 0,
   "metadata": {
    "application/vnd.databricks.v1+cell": {
     "cellMetadata": {
      "byteLimit": 2048000,
      "rowLimit": 10000
     },
     "inputWidgets": {},
     "nuid": "be38404b-0f7a-42fa-94e5-e44c63f1bdcd",
     "showTitle": false,
     "title": ""
    }
   },
   "outputs": [],
   "source": [
    "import pyspark\n",
    "\n",
    "#Creamos una sesion de spark\n",
    "from pyspark.sql import SparkSession\n",
    "\n",
    "#Creamos un objeto de spark session\n",
    "spark = SparkSession.builder.appName(\"pysparkdf\").getOrCreate()"
   ]
  },
  {
   "cell_type": "code",
   "execution_count": 0,
   "metadata": {
    "application/vnd.databricks.v1+cell": {
     "cellMetadata": {
      "byteLimit": 2048000,
      "rowLimit": 10000
     },
     "inputWidgets": {},
     "nuid": "79476c7e-6602-412c-a959-df598afff039",
     "showTitle": false,
     "title": ""
    }
   },
   "outputs": [],
   "source": [
    "# Lecura de fuentes de datos\n",
    "df21 = spark.read.option(\"header\", \"true\").csv(\"dbfs:/FileStore/tables/uno/world_happiness_report_2021.csv\")\n",
    "df = spark.read.option(\"header\", \"true\").csv(\"dbfs:/FileStore/tables/uno/world_happiness_report.csv\")\n"
   ]
  },
  {
   "cell_type": "code",
   "execution_count": 0,
   "metadata": {
    "application/vnd.databricks.v1+cell": {
     "cellMetadata": {
      "byteLimit": 2048000,
      "rowLimit": 10000
     },
     "inputWidgets": {},
     "nuid": "37036113-2bbd-4cad-b598-48ae48268f85",
     "showTitle": false,
     "title": ""
    }
   },
   "outputs": [
    {
     "output_type": "stream",
     "name": "stdout",
     "output_type": "stream",
     "text": [
      "País con el máximo Ladder score:\nCountry name: Finland\nLadder score: 7.842\n"
     ]
    }
   ],
   "source": [
    "## 1.- El país de 2021 más feliz (Ladder score)\n",
    "from pyspark.sql.functions import max\n",
    "max_ladder_score_row = df21.orderBy(\"Ladder score\", ascending=False).first()\n",
    "print(\"País con el máximo Ladder score:\")\n",
    "print(\"Country name:\", max_ladder_score_row[\"Country name\"])\n",
    "print(\"Ladder score:\", max_ladder_score_row[\"Ladder score\"])\n",
    "#display(max_ladder_score_row[\"Country name\"])\n"
   ]
  },
  {
   "cell_type": "code",
   "execution_count": 0,
   "metadata": {
    "application/vnd.databricks.v1+cell": {
     "cellMetadata": {
      "byteLimit": 2048000,
      "rowLimit": 10000
     },
     "inputWidgets": {},
     "nuid": "f4e685fd-c84f-4dd6-b806-a7f66657dd6c",
     "showTitle": false,
     "title": ""
    }
   },
   "outputs": [
    {
     "output_type": "display_data",
     "data": {
      "text/html": [
       "<style scoped>\n",
       "  .table-result-container {\n",
       "    max-height: 300px;\n",
       "    overflow: auto;\n",
       "  }\n",
       "  table, th, td {\n",
       "    border: 1px solid black;\n",
       "    border-collapse: collapse;\n",
       "  }\n",
       "  th, td {\n",
       "    padding: 5px;\n",
       "  }\n",
       "  th {\n",
       "    text-align: left;\n",
       "  }\n",
       "</style><div class='table-result-container'><table class='table-result'><thead style='background-color: white'><tr><th>Regional indicator</th><th>max_ladder_score</th></tr></thead><tbody><tr><td>Western Europe</td><td>7.842</td></tr><tr><td>North America and ANZ</td><td>7.277</td></tr><tr><td>Middle East and North Africa</td><td>7.157</td></tr><tr><td>Latin America and Caribbean</td><td>7.069</td></tr><tr><td>Central and Eastern Europe</td><td>6.965</td></tr><tr><td>East Asia</td><td>6.584</td></tr><tr><td>Southeast Asia</td><td>6.377</td></tr><tr><td>Commonwealth of Independent States</td><td>6.179</td></tr><tr><td>Sub-Saharan Africa</td><td>6.049</td></tr><tr><td>South Asia</td><td>5.269</td></tr></tbody></table></div>"
      ]
     },
     "metadata": {
      "application/vnd.databricks.v1+output": {
       "addedWidgets": {},
       "aggData": [],
       "aggError": "",
       "aggOverflow": false,
       "aggSchema": [],
       "aggSeriesLimitReached": false,
       "aggType": "",
       "arguments": {},
       "columnCustomDisplayInfos": {},
       "data": [
        [
         "Western Europe",
         "7.842"
        ],
        [
         "North America and ANZ",
         "7.277"
        ],
        [
         "Middle East and North Africa",
         "7.157"
        ],
        [
         "Latin America and Caribbean",
         "7.069"
        ],
        [
         "Central and Eastern Europe",
         "6.965"
        ],
        [
         "East Asia",
         "6.584"
        ],
        [
         "Southeast Asia",
         "6.377"
        ],
        [
         "Commonwealth of Independent States",
         "6.179"
        ],
        [
         "Sub-Saharan Africa",
         "6.049"
        ],
        [
         "South Asia",
         "5.269"
        ]
       ],
       "datasetInfos": [],
       "dbfsResultPath": null,
       "isJsonSchema": true,
       "metadata": {},
       "overflow": false,
       "plotOptions": {
        "customPlotOptions": {},
        "displayType": "table",
        "pivotAggregation": null,
        "pivotColumns": null,
        "xColumns": null,
        "yColumns": null
       },
       "removedWidgets": [],
       "schema": [
        {
         "metadata": "{}",
         "name": "Regional indicator",
         "type": "\"string\""
        },
        {
         "metadata": "{}",
         "name": "max_ladder_score",
         "type": "\"string\""
        }
       ],
       "type": "table"
      }
     },
     "output_type": "display_data"
    }
   ],
   "source": [
    "## 2.- Máxima felicidad por Indicador Regional\n",
    "from pyspark.sql.functions import max\n",
    "grouped = df21.groupBy(\"Regional indicator\").agg(max(\"Ladder score\").alias(\"max_ladder_score\"))\n",
    "ordered = grouped.orderBy(\"max_ladder_score\", ascending=False)\n",
    "display(ordered)"
   ]
  },
  {
   "cell_type": "code",
   "execution_count": 0,
   "metadata": {
    "application/vnd.databricks.v1+cell": {
     "cellMetadata": {
      "byteLimit": 2048000,
      "rowLimit": 10000
     },
     "inputWidgets": {},
     "nuid": "ae0805c5-d3ab-481d-acd9-bd228b2fce2e",
     "showTitle": false,
     "title": ""
    }
   },
   "outputs": [
    {
     "output_type": "display_data",
     "data": {
      "text/html": [
       "<style scoped>\n",
       "  .table-result-container {\n",
       "    max-height: 300px;\n",
       "    overflow: auto;\n",
       "  }\n",
       "  table, th, td {\n",
       "    border: 1px solid black;\n",
       "    border-collapse: collapse;\n",
       "  }\n",
       "  th, td {\n",
       "    padding: 5px;\n",
       "  }\n",
       "  th {\n",
       "    text-align: left;\n",
       "  }\n",
       "</style><div class='table-result-container'><table class='table-result'><thead style='background-color: white'><tr><th>Country name</th><th>year</th><th>Life Ladder</th><th>Log GDP per capita</th><th>Social support</th><th>Healthy life expectancy at birth</th><th>Freedom to make life choices</th><th>Generosity</th><th>Perceptions of corruption</th><th>Positive affect</th><th>Negative affect</th></tr></thead><tbody><tr><td>Denmark</td><td>2005</td><td>8.019</td><td>10.851</td><td>0.972</td><td>69.600</td><td>0.971</td><td>null</td><td>0.237</td><td>0.860</td><td>0.154</td></tr><tr><td>Finland</td><td>2006</td><td>7.672</td><td>10.745</td><td>0.965</td><td>69.760</td><td>0.969</td><td>-0.005</td><td>0.132</td><td>0.722</td><td>0.172</td></tr><tr><td>Denmark</td><td>2007</td><td>7.834</td><td>10.891</td><td>0.954</td><td>69.920</td><td>0.932</td><td>0.240</td><td>0.206</td><td>0.828</td><td>0.194</td></tr><tr><td>Denmark</td><td>2008</td><td>7.971</td><td>10.880</td><td>0.954</td><td>70.080</td><td>0.970</td><td>0.272</td><td>0.248</td><td>0.757</td><td>0.163</td></tr><tr><td>Denmark</td><td>2009</td><td>7.683</td><td>10.824</td><td>0.939</td><td>70.240</td><td>0.949</td><td>0.264</td><td>0.206</td><td>0.749</td><td>0.234</td></tr><tr><td>Denmark</td><td>2010</td><td>7.771</td><td>10.839</td><td>0.975</td><td>70.400</td><td>0.944</td><td>0.242</td><td>0.175</td><td>0.785</td><td>0.155</td></tr><tr><td>Denmark</td><td>2011</td><td>7.788</td><td>10.848</td><td>0.962</td><td>70.620</td><td>0.935</td><td>0.298</td><td>0.220</td><td>0.769</td><td>0.175</td></tr><tr><td>Switzerland</td><td>2012</td><td>7.776</td><td>11.079</td><td>0.947</td><td>72.780</td><td>0.945</td><td>0.139</td><td>0.323</td><td>0.859</td><td>0.176</td></tr><tr><td>Canada</td><td>2013</td><td>7.594</td><td>10.757</td><td>0.936</td><td>72.680</td><td>0.916</td><td>0.316</td><td>0.406</td><td>0.851</td><td>0.263</td></tr><tr><td>Denmark</td><td>2014</td><td>7.508</td><td>10.862</td><td>0.956</td><td>71.280</td><td>0.942</td><td>0.118</td><td>0.237</td><td>0.832</td><td>0.233</td></tr><tr><td>Norway</td><td>2015</td><td>7.603</td><td>11.033</td><td>0.947</td><td>72.900</td><td>0.948</td><td>0.257</td><td>0.299</td><td>0.843</td><td>0.209</td></tr><tr><td>Finland</td><td>2016</td><td>7.660</td><td>10.740</td><td>0.954</td><td>71.700</td><td>0.948</td><td>-0.027</td><td>0.250</td><td>0.797</td><td>0.182</td></tr><tr><td>Finland</td><td>2017</td><td>7.788</td><td>10.768</td><td>0.964</td><td>71.800</td><td>0.962</td><td>-0.002</td><td>0.192</td><td>0.787</td><td>0.176</td></tr><tr><td>Finland</td><td>2018</td><td>7.858</td><td>10.783</td><td>0.962</td><td>71.900</td><td>0.938</td><td>-0.127</td><td>0.199</td><td>0.782</td><td>0.182</td></tr><tr><td>Finland</td><td>2019</td><td>7.780</td><td>10.792</td><td>0.937</td><td>72.000</td><td>0.948</td><td>-0.052</td><td>0.195</td><td>0.755</td><td>0.181</td></tr><tr><td>Finland</td><td>2020</td><td>7.889</td><td>10.750</td><td>0.962</td><td>72.100</td><td>0.962</td><td>-0.116</td><td>0.164</td><td>0.744</td><td>0.193</td></tr></tbody></table></div>"
      ]
     },
     "metadata": {
      "application/vnd.databricks.v1+output": {
       "addedWidgets": {},
       "aggData": [],
       "aggError": "",
       "aggOverflow": false,
       "aggSchema": [],
       "aggSeriesLimitReached": false,
       "aggType": "",
       "arguments": {},
       "columnCustomDisplayInfos": {},
       "data": [
        [
         "Denmark",
         "2005",
         "8.019",
         "10.851",
         "0.972",
         "69.600",
         "0.971",
         null,
         "0.237",
         "0.860",
         "0.154"
        ],
        [
         "Finland",
         "2006",
         "7.672",
         "10.745",
         "0.965",
         "69.760",
         "0.969",
         "-0.005",
         "0.132",
         "0.722",
         "0.172"
        ],
        [
         "Denmark",
         "2007",
         "7.834",
         "10.891",
         "0.954",
         "69.920",
         "0.932",
         "0.240",
         "0.206",
         "0.828",
         "0.194"
        ],
        [
         "Denmark",
         "2008",
         "7.971",
         "10.880",
         "0.954",
         "70.080",
         "0.970",
         "0.272",
         "0.248",
         "0.757",
         "0.163"
        ],
        [
         "Denmark",
         "2009",
         "7.683",
         "10.824",
         "0.939",
         "70.240",
         "0.949",
         "0.264",
         "0.206",
         "0.749",
         "0.234"
        ],
        [
         "Denmark",
         "2010",
         "7.771",
         "10.839",
         "0.975",
         "70.400",
         "0.944",
         "0.242",
         "0.175",
         "0.785",
         "0.155"
        ],
        [
         "Denmark",
         "2011",
         "7.788",
         "10.848",
         "0.962",
         "70.620",
         "0.935",
         "0.298",
         "0.220",
         "0.769",
         "0.175"
        ],
        [
         "Switzerland",
         "2012",
         "7.776",
         "11.079",
         "0.947",
         "72.780",
         "0.945",
         "0.139",
         "0.323",
         "0.859",
         "0.176"
        ],
        [
         "Canada",
         "2013",
         "7.594",
         "10.757",
         "0.936",
         "72.680",
         "0.916",
         "0.316",
         "0.406",
         "0.851",
         "0.263"
        ],
        [
         "Denmark",
         "2014",
         "7.508",
         "10.862",
         "0.956",
         "71.280",
         "0.942",
         "0.118",
         "0.237",
         "0.832",
         "0.233"
        ],
        [
         "Norway",
         "2015",
         "7.603",
         "11.033",
         "0.947",
         "72.900",
         "0.948",
         "0.257",
         "0.299",
         "0.843",
         "0.209"
        ],
        [
         "Finland",
         "2016",
         "7.660",
         "10.740",
         "0.954",
         "71.700",
         "0.948",
         "-0.027",
         "0.250",
         "0.797",
         "0.182"
        ],
        [
         "Finland",
         "2017",
         "7.788",
         "10.768",
         "0.964",
         "71.800",
         "0.962",
         "-0.002",
         "0.192",
         "0.787",
         "0.176"
        ],
        [
         "Finland",
         "2018",
         "7.858",
         "10.783",
         "0.962",
         "71.900",
         "0.938",
         "-0.127",
         "0.199",
         "0.782",
         "0.182"
        ],
        [
         "Finland",
         "2019",
         "7.780",
         "10.792",
         "0.937",
         "72.000",
         "0.948",
         "-0.052",
         "0.195",
         "0.755",
         "0.181"
        ],
        [
         "Finland",
         "2020",
         "7.889",
         "10.750",
         "0.962",
         "72.100",
         "0.962",
         "-0.116",
         "0.164",
         "0.744",
         "0.193"
        ]
       ],
       "datasetInfos": [],
       "dbfsResultPath": null,
       "isJsonSchema": true,
       "metadata": {},
       "overflow": false,
       "plotOptions": {
        "customPlotOptions": {},
        "displayType": "table",
        "pivotAggregation": null,
        "pivotColumns": null,
        "xColumns": null,
        "yColumns": null
       },
       "removedWidgets": [],
       "schema": [
        {
         "metadata": "{}",
         "name": "Country name",
         "type": "\"string\""
        },
        {
         "metadata": "{}",
         "name": "year",
         "type": "\"string\""
        },
        {
         "metadata": "{}",
         "name": "Life Ladder",
         "type": "\"string\""
        },
        {
         "metadata": "{}",
         "name": "Log GDP per capita",
         "type": "\"string\""
        },
        {
         "metadata": "{}",
         "name": "Social support",
         "type": "\"string\""
        },
        {
         "metadata": "{}",
         "name": "Healthy life expectancy at birth",
         "type": "\"string\""
        },
        {
         "metadata": "{}",
         "name": "Freedom to make life choices",
         "type": "\"string\""
        },
        {
         "metadata": "{}",
         "name": "Generosity",
         "type": "\"string\""
        },
        {
         "metadata": "{}",
         "name": "Perceptions of corruption",
         "type": "\"string\""
        },
        {
         "metadata": "{}",
         "name": "Positive affect",
         "type": "\"string\""
        },
        {
         "metadata": "{}",
         "name": "Negative affect",
         "type": "\"string\""
        }
       ],
       "type": "table"
      }
     },
     "output_type": "display_data"
    }
   ],
   "source": [
    "## 3.- País más feliz en cada año\n",
    "\n",
    "from pyspark.sql import functions as F\n",
    "from pyspark.sql.window import Window\n",
    "\n",
    "window_spec = Window.partitionBy(\"year\").orderBy(F.col(\"Life Ladder\").desc())\n",
    "grouped_with_rank = df.withColumn(\"rank\", F.row_number().over(window_spec))\n",
    "result = grouped_with_rank.filter(\"rank = 1\").drop(\"rank\")\n",
    "\n",
    "display(result)"
   ]
  }
 ],
 "metadata": {
  "application/vnd.databricks.v1+notebook": {
   "dashboards": [],
   "language": "python",
   "notebookMetadata": {
    "pythonIndentUnit": 4
   },
   "notebookName": "PySpark - Completo",
   "widgets": {}
  },
  "kernelspec": {
   "display_name": "Python 3 (ipykernel)",
   "language": "python",
   "name": "python3"
  },
  "language_info": {
   "codemirror_mode": {
    "name": "ipython",
    "version": 3
   },
   "file_extension": ".py",
   "mimetype": "text/x-python",
   "name": "python",
   "nbconvert_exporter": "python",
   "pygments_lexer": "ipython3",
   "version": "3.8.8"
  },
  "varInspector": {
   "cols": {
    "lenName": 16,
    "lenType": 16,
    "lenVar": 40
   },
   "kernels_config": {
    "python": {
     "delete_cmd_postfix": "",
     "delete_cmd_prefix": "del ",
     "library": "var_list.py",
     "varRefreshCmd": "print(var_dic_list())"
    },
    "r": {
     "delete_cmd_postfix": ") ",
     "delete_cmd_prefix": "rm(",
     "library": "var_list.r",
     "varRefreshCmd": "cat(var_dic_list()) "
    }
   },
   "types_to_exclude": [
    "module",
    "function",
    "builtin_function_or_method",
    "instance",
    "_Feature"
   ],
   "window_display": false
  }
 },
 "nbformat": 4,
 "nbformat_minor": 0
}
